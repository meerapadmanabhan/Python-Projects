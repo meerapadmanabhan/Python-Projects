{
 "cells": [
  {
   "cell_type": "code",
   "execution_count": 5,
   "id": "2abb3d79",
   "metadata": {},
   "outputs": [],
   "source": [
    "import pyqrcode\n",
    "import png\n",
    "from pyqrcode import QRCode\n",
    "\n",
    "#string which represents the QR Code\n",
    "site = \"www.avodha.com\"\n",
    "\n",
    "#Generate QR Code\n",
    "url_qr = pyqrcode.create(site)\n",
    "\n",
    "#Create and save the svg file naming \"myqr.svg\"\n",
    "url_qr.svg(\"avodha.svg\",scale = 8)\n",
    "\n",
    "#Create and save the png file naming \"myqr.png\"\n",
    "url_qr.png(\"avodha.png\",scale = 6)"
   ]
  },
  {
   "cell_type": "code",
   "execution_count": 4,
   "id": "9b064b48",
   "metadata": {},
   "outputs": [],
   "source": []
  },
  {
   "cell_type": "code",
   "execution_count": null,
   "id": "8c6a198b",
   "metadata": {},
   "outputs": [],
   "source": []
  }
 ],
 "metadata": {
  "kernelspec": {
   "display_name": "Python 3",
   "language": "python",
   "name": "python3"
  },
  "language_info": {
   "codemirror_mode": {
    "name": "ipython",
    "version": 3
   },
   "file_extension": ".py",
   "mimetype": "text/x-python",
   "name": "python",
   "nbconvert_exporter": "python",
   "pygments_lexer": "ipython3",
   "version": "3.8.8"
  }
 },
 "nbformat": 4,
 "nbformat_minor": 5
}
