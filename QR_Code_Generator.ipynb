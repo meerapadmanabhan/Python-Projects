{
  "nbformat": 4,
  "nbformat_minor": 0,
  "metadata": {
    "colab": {
      "provenance": [],
      "authorship_tag": "ABX9TyNlO+p3eiuxy6S3/IU89lhk",
      "include_colab_link": true
    },
    "kernelspec": {
      "name": "python3",
      "display_name": "Python 3"
    },
    "language_info": {
      "name": "python"
    }
  },
  "cells": [
    {
      "cell_type": "markdown",
      "metadata": {
        "id": "view-in-github",
        "colab_type": "text"
      },
      "source": [
        "<a href=\"https://colab.research.google.com/github/meerapadmanabhan/Python-Projects/blob/main/QR_Code_Generator.ipynb\" target=\"_parent\"><img src=\"https://colab.research.google.com/assets/colab-badge.svg\" alt=\"Open In Colab\"/></a>"
      ]
    },
    {
      "cell_type": "code",
      "execution_count": null,
      "metadata": {
        "id": "fVXCuBQTTCSH"
      },
      "outputs": [],
      "source": [
        "Generate QR Code using qrcode in Python\n",
        "\n",
        "A Quick Response Code or a QR Code is a two-dimensional bar code used for its fast readability and comparatively large storage capacity. It consists of black squares arranged in a square grid on a white background.\n",
        "Python has a library “qrcode” for generating QR code images. It can be installed using pip.\n",
        "\n",
        "Approach:\n",
        "•\tImport modules\n",
        "•\tCopy the site to be generates\n",
        "•\tCreate Qrcode with qrcode.create() and it returns a PilImage object.\n",
        "•\tSave into image\n"
      ]
    }
  ]
}